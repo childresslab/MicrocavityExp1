{
 "cells": [
  {
   "cell_type": "code",
   "execution_count": 1,
   "metadata": {},
   "outputs": [
    {
     "data": {
      "text/plain": [
       "0"
      ]
     },
     "execution_count": 1,
     "metadata": {},
     "output_type": "execute_result"
    }
   ],
   "source": [
    "manager.startModule('hardware','scope')"
   ]
  },
  {
   "cell_type": "code",
   "execution_count": 8,
   "metadata": {},
   "outputs": [],
   "source": [
    "try:\n",
    "    scope.scope.write('*OPC?')\n",
    "    A= scope.scope.read()\n",
    "except:\n",
    "    print('error')\n",
    "    "
   ]
  },
  {
   "cell_type": "code",
   "execution_count": 9,
   "metadata": {},
   "outputs": [
    {
     "data": {
      "text/plain": [
       "'1\\n'"
      ]
     },
     "execution_count": 9,
     "metadata": {},
     "output_type": "execute_result"
    }
   ],
   "source": [
    "A"
   ]
  },
  {
   "cell_type": "code",
   "execution_count": 20,
   "metadata": {},
   "outputs": [],
   "source": [
    "k= 1.0\n",
    "for i in range(2):\n",
    "        while True:\n",
    "            k -=0.05 \n",
    "            if k < 0.1:\n",
    "                break\n",
    "                print('did not find resonance')\n",
    "            try:\n",
    "                cavitylogic._scope.scope.write('*OPC?')\n",
    "                if cavitylogic._scope.scope.read() == '1\\n':\n",
    "                    cavitylogic._linewidth_get_data()\n",
    "                    break\n",
    "            except:\n",
    "                level = 3.4 - k* 2* 0.4\n",
    "                cavitylogic._scope.set_egde_trigger(channel=1, level=level)\n",
    "               "
   ]
  },
  {
   "cell_type": "code",
   "execution_count": null,
   "metadata": {
    "collapsed": true
   },
   "outputs": [],
   "source": []
  }
 ],
 "metadata": {
  "kernelspec": {
   "display_name": "Qudi",
   "language": "python",
   "name": "qudi"
  },
  "language_info": {
   "codemirror_mode": {
    "name": "ipython",
    "version": "3.6.0"
   },
   "file_extension": ".py",
   "mimetype": "text/x-python",
   "name": "python",
   "nbconvert_exporter": "python",
   "pygments_lexer": "ipython3",
   "version": "3.6.0"
  }
 },
 "nbformat": 4,
 "nbformat_minor": 2
}
