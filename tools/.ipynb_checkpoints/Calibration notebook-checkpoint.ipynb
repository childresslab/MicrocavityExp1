{
 "cells": [
  {
   "cell_type": "markdown",
   "metadata": {},
   "source": [
    "# Calibration\n",
    "\n",
    "## Start a simple ramp signal\n",
    "\n"
   ]
  },
  {
   "cell_type": "code",
   "execution_count": 2,
   "metadata": {
    "collapsed": false
   },
   "outputs": [
    {
     "name": "stderr",
     "output_type": "stream",
     "text": [
      "Traceback (most recent call last):\n",
      "  File \"C:\\Users\\ChildressLab\\Software\\Qudi\\logic\\jupyterkernel\\qzmqkernel.py\", line 795, in run_code\n",
      "    exec(code_obj, self.user_global_ns, self.user_ns)\n",
      "  File \"<ipython-input-2-02d076f3b90d>\", line 1, in <module>\n",
      "    mynicard.setup_ramp_output(10000, 0.07,-0.309,16)\n",
      "  File \"C:\\Users\\ChildressLab\\Software\\Qudi\\hardware\\ni_card_USB6229.py\", line 1471, in setup_ramp_output\n",
      "    daq.DAQmxCreateTask('Ramp',daq.byref(self.ramp_task))\n",
      "  File \"<string>\", line 2, in function\n",
      "  File \"C:\\Users\\ChildressLab\\Anaconda3\\envs\\qudi\\lib\\site-packages\\PyDAQmx\\DAQmxFunctions.py\", line 29, in mafunction\n",
      "    raise DAQError(error,errBuff.value.decode(\"utf-8\"), f.__name__)\n",
      "PyDAQmx.DAQmxFunctions.DAQError: Task name specified conflicts with an existing task name.\n",
      "Task Name: Ramp\n",
      "\n",
      "Status Code: -200089\n",
      " in function DAQmxCreateTask\n"
     ]
    }
   ],
   "source": [
    "mynicard.close_ramp()\n",
    "mynicard.setup_ramp_output(10000, 0.07,-0.309,16)\n",
    "mynicard.start_ramp()"
   ]
  },
  {
   "cell_type": "code",
   "execution_count": null,
   "metadata": {
    "collapsed": true
   },
   "outputs": [],
   "source": []
  }
 ],
 "metadata": {
  "kernelspec": {
   "display_name": "Qudi",
   "language": "python",
   "name": "qudi"
  },
  "language_info": {
   "codemirror_mode": {
    "name": "ipython",
    "version": "3.6.0"
   },
   "file_extension": ".py",
   "mimetype": "text/x-python",
   "name": "python",
   "nbconvert_exporter": "python",
   "pygments_lexer": "ipython3",
   "version": "3.6.0"
  }
 },
 "nbformat": 4,
 "nbformat_minor": 2
}
