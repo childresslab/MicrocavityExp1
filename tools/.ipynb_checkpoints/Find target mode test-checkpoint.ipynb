{
 "cells": [
  {
   "cell_type": "code",
   "execution_count": 1,
   "metadata": {
    "collapsed": false
   },
   "outputs": [
    {
     "data": {
      "text/plain": [
       "0"
      ]
     },
     "execution_count": 1,
     "metadata": {},
     "output_type": "execute_result"
    }
   ],
   "source": [
    "import numpy as np \n",
    "import matplotlib.pyplot as plt\n",
    "import glob\n",
    "plt.ion()\n",
    "# Loads nicard and scope\n",
    "manager.startModule('logic','cavitylogic')\n",
    "filenames = glob.glob('./*data.dat')\n",
    "\n",
    "outlier_cutoff = 1.5"
   ]
  },
  {
   "cell_type": "code",
   "execution_count": 8,
   "metadata": {
    "collapsed": true
   },
   "outputs": [],
   "source": [
    "fileNum=3\n",
    "cavitylogic._load_full_sweep(filepath='', filename=filenames[fileNum])\n",
    "cavitylogic._get_ramp_up_signgals()\n",
    "cavitylogic.RampUp_signalSG_polyfit = cavitylogic._polyfit_SG(xdata=cavitylogic.RampUp_time,ydata=cavitylogic.RampUp_signalSG,\n",
    "                                                        order=3, plot=False)\n",
    "resonances = cavitylogic._peak_search(cavitylogic.RampUp_signalR)\n",
    "corrected_resonances = cavitylogic._find_missing_resonances(resonances)\n",
    "\n",
    "cavitylogic._get_ramp_up_signgals()\n",
    "cavitylogic.first_sweep = cavitylogic.RampUp_signalR\n",
    "cavitylogic.first_corrected_resonances = corrected_resonances\n",
    "cavitylogic.first_RampUp_signalSG_polyfit = cavitylogic.RampUp_signalSG_polyfit \n",
    "\n",
    "cavitylogic.current_sweep_number = 2\n",
    "fileNum=3\n",
    "cavitylogic._load_full_sweep(filepath='', filename=filenames[fileNum])\n",
    "cavitylogic._get_ramp_up_signgals()\n",
    "cavitylogic.RampUp_signalR = np.roll(cavitylogic.first_sweep,20000)"
   ]
  },
  {
   "cell_type": "code",
   "execution_count": 9,
   "metadata": {
    "collapsed": false
   },
   "outputs": [
    {
     "data": {
      "text/plain": [
       "'1\\n'"
      ]
     },
     "execution_count": 9,
     "metadata": {},
     "output_type": "execute_result"
    }
   ],
   "source": [
    "cavitylogic.RampUp_signalSG_polyfit = cavitylogic._polyfit_SG(xdata=cavitylogic.RampUp_time,ydata=cavitylogic.RampUp_signalSG,\n",
    "                                                        order=3, plot=True)\n",
    "resonances = cavitylogic._peak_search(cavitylogic.RampUp_signalR)\n",
    "print(cavitylogic._check_for_outliers(resonances,1.5))\n",
    "corrected_resonances = cavitylogic._find_missing_resonances(resonances)\n",
    "plt.plot(corrected_resonances)"
   ]
  },
  {
   "cell_type": "code",
   "execution_count": 20,
   "metadata": {
    "collapsed": true
   },
   "outputs": [],
   "source": [
    "plt.plot(cavitylogic.RampUp_signalSG_polyfit, cavitylogic.RampUp_signalR)\n",
    "plt.plot(cavitylogic.RampUp_signalSG_polyfit[corrected_resonances],  cavitylogic.RampUp_signalR[corrected_resonances],'r',marker ='o')\n",
    "plt.plot(cavitylogic.first_RampUp_signalSG_polyfit, cavitylogic.first_sweep)\n",
    "plt.plot(cavitylogic.first_RampUp_signalSG_polyfit[cavitylogic.first_corrected_resonances],  cavitylogic.first_sweep[cavitylogic.first_corrected_resonances],'g',marker ='o')\n",
    "plt.show()"
   ]
  },
  {
   "cell_type": "code",
   "execution_count": null,
   "metadata": {
    "collapsed": true
   },
   "outputs": [],
   "source": [
    "print(cavitylogic.get_target_mode(corrected_resonances))\n",
    "new_index = cavitylogic.first_corrected_resonances[cavitylogic.current_mode_number]\n",
    "index = cavitylogic.first_corrected_resonances[cavitylogic.current_mode_number] - cavitylogic.t_delay_list[-1]\n",
    "print(index, new_index)\n",
    "\n",
    "plt.plot(cavitylogic.RampUp_signalSG_polyfit, cavitylogic.RampUp_signalR)\n",
    "plt.plot(cavitylogic.RampUp_signalSG_polyfit[index], cavitylogic.RampUp_signalR[index],'x',markersize=20,color='k')\n",
    "plt.plot(cavitylogic.first_RampUp_signalSG_polyfit, cavitylogic.first_sweep)\n",
    "plt.plot(cavitylogic.first_RampUp_signalSG_polyfit[new_index], cavitylogic.first_sweep[new_index],'o',markersize=10)\n",
    "plt.show()\n"
   ]
  }
 ],
 "metadata": {
  "kernelspec": {
   "display_name": "Qudi",
   "language": "python",
   "name": "qudi"
  },
  "language_info": {
   "codemirror_mode": {
    "name": "ipython",
    "version": "3.6.0"
   },
   "file_extension": ".py",
   "mimetype": "text/x-python",
   "name": "python",
   "nbconvert_exporter": "python",
   "pygments_lexer": "ipython3",
   "version": "3.6.0"
  }
 },
 "nbformat": 4,
 "nbformat_minor": 2
}
