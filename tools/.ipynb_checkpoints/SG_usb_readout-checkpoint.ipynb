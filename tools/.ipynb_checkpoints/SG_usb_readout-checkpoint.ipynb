{
 "cells": [
  {
   "cell_type": "code",
   "execution_count": 25,
   "metadata": {
    "collapsed": true
   },
   "outputs": [],
   "source": [
    "import ctypes\n",
    "import os"
   ]
  },
  {
   "cell_type": "code",
   "execution_count": 26,
   "metadata": {
    "collapsed": true
   },
   "outputs": [],
   "source": [
    "os.chdir('C:\\Program Files\\Thorlabs\\Kinesis')"
   ]
  },
  {
   "cell_type": "code",
   "execution_count": 27,
   "metadata": {
    "collapsed": true
   },
   "outputs": [],
   "source": [
    "lib = ctypes.windll.LoadLibrary(r'C:\\Program Files\\Thorlabs\\Kinesis\\ThorLabs.MotionControl.KCube.StrainGauge.dll')"
   ]
  },
  {
   "cell_type": "code",
   "execution_count": 28,
   "metadata": {},
   "outputs": [
    {
     "data": {
      "text/plain": [
       "0"
      ]
     },
     "execution_count": 28,
     "metadata": {},
     "output_type": "execute_result"
    }
   ],
   "source": [
    "lib.TLI_BuildDeviceList()"
   ]
  },
  {
   "cell_type": "code",
   "execution_count": 29,
   "metadata": {},
   "outputs": [],
   "source": [
    "nDev = lib.TLI_GetDeviceListSize()"
   ]
  },
  {
   "cell_type": "code",
   "execution_count": 33,
   "metadata": {},
   "outputs": [],
   "source": [
    "devID = 59\n",
    "TL_cBufSize = 255\n",
    "sBuf = ctypes.c_buffer(TL_cBufSize)\n",
    "if lib.TLI_GetDeviceListByTypeExt(sBuf, TL_cBufSize, devID) != 0:\n",
    "    print(\"ERROR\", \"No devices of type {0} found\".format(devID))\n"
   ]
  },
  {
   "cell_type": "code",
   "execution_count": 34,
   "metadata": {},
   "outputs": [
    {
     "data": {
      "text/plain": [
       "<ctypes.c_char_Array_255 object at 0x000000000BCC8548>"
      ]
     },
     "execution_count": 34,
     "metadata": {},
     "output_type": "execute_result"
    }
   ],
   "source": [
    "sBuf"
   ]
  },
  {
   "cell_type": "code",
   "execution_count": 35,
   "metadata": {},
   "outputs": [],
   "source": [
    "serNr        = 59000019\n",
    "serNrStr= ctypes.c_char_p(serNr.__str__().encode(\"ascii\"))\n",
    "\n",
    "serNrStrList = sBuf.value.decode().rsplit(\",\")[0:-1]\n",
    "if not(serNr.__str__() in serNrStrList):\n",
    "    print(\"ERROR\", \"No device with S/N {0} found\".format(serNr)) "
   ]
  },
  {
   "cell_type": "code",
   "execution_count": null,
   "metadata": {
    "collapsed": true
   },
   "outputs": [],
   "source": []
  }
 ],
 "metadata": {
  "kernelspec": {
   "display_name": "Qudi",
   "language": "python",
   "name": "qudi"
  },
  "language_info": {
   "codemirror_mode": {
    "name": "ipython",
    "version": "3.6.0"
   },
   "file_extension": ".py",
   "mimetype": "text/x-python",
   "name": "python",
   "nbconvert_exporter": "python",
   "pygments_lexer": "ipython3",
   "version": "3.6.0"
  }
 },
 "nbformat": 4,
 "nbformat_minor": 2
}
