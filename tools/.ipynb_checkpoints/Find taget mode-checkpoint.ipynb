{
 "cells": [
  {
   "cell_type": "markdown",
   "metadata": {},
   "source": [
    "# Find target modes"
   ]
  },
  {
   "cell_type": "code",
   "execution_count": 1,
   "metadata": {
    "collapsed": true
   },
   "outputs": [],
   "source": [
    "import numpy as np\n",
    "import matplotlib.pyplot as plt\n",
    "from scipy.optimize import curve_fit\n",
    "import os"
   ]
  },
  {
   "cell_type": "markdown",
   "metadata": {},
   "source": [
    "Load file"
   ]
  },
  {
   "cell_type": "code",
   "execution_count": 31,
   "metadata": {
    "collapsed": false
   },
   "outputs": [],
   "source": [
    "filepath = r'C:\\Users\\ChildressLab\\Desktop\\Rasmus notes\\Measurements'\n",
    "filename = '2017-08-14_141938_full_sweep_data'\n",
    "delimiter = '\\t'\n",
    "\n",
    "with open(os.path.join(filepath, filename), 'rb') as file:\n",
    "    data = np.loadtxt(file, delimiter=delimiter)\n",
    "\n",
    "times = data[0:4,2000:]\n",
    "volts = data[4:8,2000:]"
   ]
  },
  {
   "cell_type": "code",
   "execution_count": 32,
   "metadata": {
    "collapsed": false
   },
   "outputs": [
    {
     "data": {
      "text/plain": [
       "array([-0.04, -0.04, -0.04, ..., -0.04, -0.04, -0.04])"
      ]
     },
     "execution_count": 32,
     "metadata": {},
     "output_type": "execute_result"
    }
   ],
   "source": [
    "np.argmin(volts[1])\n",
    "volts[1]"
   ]
  },
  {
   "cell_type": "code",
   "execution_count": 34,
   "metadata": {
    "collapsed": false
   },
   "outputs": [
    {
     "name": "stdout",
     "output_type": "stream",
     "text": [
      "514554 46572 982536\n"
     ]
    },
    {
     "data": {
      "image/png": "[encoded data removed]"
     },
     "metadata": {
      "image/png": {
       "height": 361,
       "width": 541
      }
     },
     "output_type": "display_data"
    }
   ],
   "source": [
    "total_trace = 2 # sec\n",
    "ramp_period = 1.5 #sec\n",
    "period_index = len(times[0])* ramp_period / total_trace\n",
    "ramp_mid = np.argmin(volts[1])\n",
    "\n",
    "low_index = ramp_mid - int(period_index/2)\n",
    "high_index = ramp_mid + int(period_index/2)\n",
    "print(ramp_mid, low_index, high_index)\n",
    "volts_trim = volts[:,low_index:high_index]\n",
    "times_trim = times[:,low_index:high_index]\n",
    "\n",
    "plt.plot(times_trim[3],volts_trim[3]/np.mean(volts_trim[3]))\n",
    "plt.plot(times_trim[1],volts_trim[1])\n",
    "plt.plot(times_trim[0],volts_trim[0]/np.mean(volts_trim[0]))\n",
    "plt.show()"
   ]
  },
  {
   "cell_type": "markdown",
   "metadata": {},
   "source": [
    "Fit scan"
   ]
  },
  {
   "cell_type": "code",
   "execution_count": 35,
   "metadata": {
    "collapsed": false
   },
   "outputs": [],
   "source": [
    "# Initial guess\n",
    "freq0 = 2/3\n",
    "start0 = 0.0\n",
    "stop0 = -3.0\n",
    "phase0 = 0.0\n",
    "\n",
    "#Fitting setup\n",
    "parameter_guess = [start0, stop0, freq0, phase0]\n",
    "func = mynicard.sweep_function\n",
    "xdata = times_trim[1]\n",
    "ydata = volts_trim[1]\n",
    "\n",
    "#Actual fitting\n",
    "popt, pcov = curve_fit(func, xdata, ydata, parameter_guess)"
   ]
  },
  {
   "cell_type": "code",
   "execution_count": null,
   "metadata": {
    "collapsed": false
   },
   "outputs": [],
   "source": [
    "# Guess plot\n",
    "ramp = mynicard.sweep_function(times[1], start0, stop0, freq0, phase0)\n",
    "plt.plot(times_trim[1],volts_trim[1])\n",
    "plt.plot(times[1],ramp)\n",
    "plt.show()\n",
    "\n",
    "# fit plot\n",
    "plt.plot(times_trim[1],volts_trim[1])\n",
    "plt.plot(xdata, func(xdata, *popt), 'r-', linewidth = 3, label='fit')\n",
    "plt.show()\n",
    "print(popt)"
   ]
  },
  {
   "cell_type": "code",
   "execution_count": null,
   "metadata": {
    "collapsed": true
   },
   "outputs": [],
   "source": []
  }
 ],
 "metadata": {
  "kernelspec": {
   "display_name": "Qudi",
   "language": "python",
   "name": "qudi"
  },
  "language_info": {
   "codemirror_mode": {
    "name": "ipython",
    "version": "3.6.0"
   },
   "file_extension": ".py",
   "mimetype": "text/x-python",
   "name": "python",
   "nbconvert_exporter": "python",
   "pygments_lexer": "ipython3",
   "version": "3.6.0"
  }
 },
 "nbformat": 4,
 "nbformat_minor": 2
}
