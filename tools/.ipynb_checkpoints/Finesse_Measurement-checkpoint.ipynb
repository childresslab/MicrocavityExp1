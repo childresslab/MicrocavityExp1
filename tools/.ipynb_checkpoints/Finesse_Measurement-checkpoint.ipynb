{
 "cells": [
  {
   "cell_type": "code",
   "execution_count": 1,
   "metadata": {},
   "outputs": [
    {
     "name": "stdout",
     "output_type": "stream",
     "text": [
      "Connected to TEKTRONIX,DPO2014B,C010144,CF:91.1CT FV:v1.52 \n",
      "\n"
     ]
    }
   ],
   "source": [
    "import numpy as np \n",
    "import matplotlib.pyplot as plt\n",
    "import glob\n",
    "plt.ion()\n",
    "# Loads nicard and scope\n",
    "manager.startModule('logic','cavitylogic')\n",
    "filenames = glob.glob('./*data.dat')\n",
    "\n",
    "outlier_cutoff = 1.5"
   ]
  },
  {
   "cell_type": "code",
   "execution_count": 2,
   "metadata": {},
   "outputs": [],
   "source": [
    "cavitylogic.current_mode_number = 10\n",
    "cavitylogic.current_sweep_number = 1"
   ]
  },
  {
   "cell_type": "code",
   "execution_count": 3,
   "metadata": {},
   "outputs": [],
   "source": [
    "def get_first_sweep():\n",
    "    cavitylogic.start_full_sweep()\n",
    "    cavitylogic._get_scope_data()\n",
    "    #cavitylogic._save_raw_data()\n",
    "    print('got data')\n",
    "    cavitylogic._get_ramp_up_signgals()\n",
    "    cavitylogic.first_sweep = cavitylogic.RampUp_signalR\n",
    "    \n",
    "    cavitylogic._polyfit_SG(order = 3,plot=False)\n",
    "    print('did fit')\n",
    "    resonances = cavitylogic._peak_search(cavitylogic.RampUp_signalR, show=True)\n",
    "    cavitylogic.first_corrected_resonances = cavitylogic._find_missing_resonances(resonances)\n",
    "    \n",
    "    return cavitylogic.first_corrected_resonances\n",
    "    \n",
    "def get_nth_sweep(sweep_number = cavitylogic.current_sweep_number):\n",
    "    \n",
    "    cavitylogic.start_full_sweep()\n",
    "    cavitylogic._get_scope_data()\n",
    "    cavitylogic._save_raw_data()\n",
    "    \n",
    "    cavitylogic._polyfit_SG(order = 3,plot=False)\n",
    "    resonances = cavitylogic._peak_search(cavitylogic.RampUp_signalR)\n",
    "    corrected_resonances = cavitylogic._find_missing_resonances(resonances)\n",
    "    \n",
    "    return corrected_resonances\n",
    "\n",
    "def find_phase_difference(signalA, signalB, low, high, show=False):\n",
    "    # regularize datasets by subtracting mean and dividing by s.d.\n",
    "    signalA -= signalA.mean(); signalA /= signalA.std()\n",
    "    signalB -= signalB.mean(); signalB /= signalB.std()\n",
    "    \n",
    "    # choose cut off for arrays\n",
    "    low, high = 200000,300000\n",
    "    signalA = signalA[low:high]\n",
    "    signalB = signalB[low:high]\n",
    "    \n",
    "    # Calculate cross correlation function https://en.wikipedia.org/wiki/Cross-correlation\n",
    "    xcorr = correlate(signalA, signalB)\n",
    "    nsamples = signalA.size\n",
    "    \n",
    "    dt = numpy.arange(1-nsamples, nsamples)\n",
    "    \n",
    "    #Phase delay\n",
    "    t_delay = dt[xcorr.argmax()]\n",
    "    \n",
    "    if show is true:\n",
    "        plt.plot(dt,xcorr)\n",
    "        plt.show()\n",
    "        \n",
    "    return t_delay\n",
    "    \n",
    "def match_n_and_first_sweep():\n",
    "    \n",
    "    low = resonance[n-10]\n",
    "    high = resoance[n+10]\n",
    "    cavitylogic.t_delay.append = find_phase_difference(cavitylogic.first_sweep, cavitylogic.RampUp_SignalR, low, high, show=True)\n",
    "    \n",
    "    return cavitylogic.t_delay\n",
    "    \n",
    "def setup_scope_for_linewidth(trigger_level, acquisition_time, position, scale):\n",
    "    # Adjust ramp channel:\n",
    "    cavitylogic._scope.set_vertical_scale(channel=2, scale=scale )\n",
    "    cavitylogic._scope.set_vertical_position(channel=2, position=position)\n",
    "    cavitylogic._scope.set_acquisition_time(acquisition_time)\n",
    "    cavitylogic._scope.set_egde_trigger(channel=1, level=trigger_level)\n",
    "\n",
    "    #FIXME: Adjust position and velocity \n",
    "\n",
    "    \n",
    "def line_width_measurement(Modes,target_mode, repeat, freq=40):\n",
    "    # Ramp parameters\n",
    "    amplitude = abs(Modes[target_mode-1]-Modes[target_mode+1])/2.0\n",
    "    offset = Modes[target_mode]\n",
    "    \n",
    "    # Setup scope for linewidth measurements with trigger on ramp signal\n",
    "    contrast = abs(cavitylogic.RampUp_signalR[cavitylogic.first_corrected_resonances].mean()-np.median(cavitylogic.RampUp_signalR))\n",
    "    level = np.median(cavitylogic.RampUp_signalR) - 0.95 * contrast\n",
    "    setup_scope_for_linewidth(trigger_level=level,\n",
    "                              acquisition_time=10e-6, position=offset, scale=amplitude)\n",
    "    \n",
    "    # setup_ramp\n",
    "    cavitylogic._ni.set_up_ramp_output(amplitude,offset,freq)\n",
    "    # start ramp\n",
    "    cavitylogic._ni.start_ramp()\n",
    "    \n",
    "    for i in range(repeat):\n",
    "        cavitylogic._linewidth_get_data()\n",
    "    \n",
    "    #cavitylogic._linewidth_save_data()\n",
    "\n",
    "    return 0\n",
    "    \n",
    "def get_target_mode():\n",
    "    \n",
    "    # Find phase difference\n",
    "    delay = match_n_and_first_sweep()\n",
    "    \n",
    "    # Find closets mode\n",
    "    new_index = cavitylogic.first_corrected_resonances[cavity.current_mode_number]+ delay\n",
    "    closest_mode = np.argmin(cavitylogic.resonances-new_index)\n",
    "    \n",
    "    target_mode = resonances[closest_mode]\n",
    "    \n",
    "    return target_mode\n",
    "#\n",
    "#Modes = cavitylogic._ni.sweep_function(cavitylogic.RampUp_time[corrected_resonances],*cavitylogic.popt)"
   ]
  },
  {
   "cell_type": "code",
   "execution_count": 4,
   "metadata": {},
   "outputs": [
    {
     "name": "stdout",
     "output_type": "stream",
     "text": [
      "got data\n"
     ]
    },
    {
     "name": "stderr",
     "output_type": "stream",
     "text": [
      "Traceback (most recent call last):\n",
      "  File \"C:\\Users\\ChildressLab\\Software\\Qudi\\logic\\jupyterkernel\\qzmqkernel.py\", line 795, in run_code\n",
      "    exec(code_obj, self.user_global_ns, self.user_ns)\n",
      "  File \"<ipython-input-4-c9e20540b81b>\", line 1, in <module>\n",
      "    first_resonances = get_first_sweep()\n",
      "  File \"<ipython-input-3-1b6e35473a80>\", line 9, in get_first_sweep\n",
      "    cavitylogic._polyfit_SG(order = 3,plot=False)\n",
      "  File \"C:\\Users\\ChildressLab\\Software\\Qudi\\logic\\cavity_logic.py\", line 150, in _polyfit_SG\n",
      "    p4 = np.poly1d(np.polyfit(xdata, ydata, order))\n",
      "  File \"C:\\Users\\ChildressLab\\Anaconda3\\envs\\qudi\\lib\\site-packages\\numpy\\lib\\polynomial.py\", line 555, in polyfit\n",
      "    raise TypeError(\"expected non-empty vector for x\")\n",
      "TypeError: expected non-empty vector for x\n"
     ]
    }
   ],
   "source": [
    "first_resonances = get_first_sweep()"
   ]
  },
  {
   "cell_type": "code",
   "execution_count": 5,
   "metadata": {},
   "outputs": [
    {
     "name": "stderr",
     "output_type": "stream",
     "text": [
      "Traceback (most recent call last):\n",
      "  File \"C:\\Users\\ChildressLab\\Software\\Qudi\\logic\\jupyterkernel\\qzmqkernel.py\", line 795, in run_code\n",
      "    exec(code_obj, self.user_global_ns, self.user_ns)\n",
      "  File \"<ipython-input-5-1ea2946125b6>\", line 1, in <module>\n",
      "    cavitylogic._fit_ramp()\n",
      "  File \"C:\\Users\\ChildressLab\\Software\\Qudi\\logic\\cavity_logic.py\", line 160, in _fit_ramp\n",
      "    self._full_sweep_freq, self.time_trim[0]]\n",
      "IndexError: index 0 is out of bounds for axis 0 with size 0\n"
     ]
    }
   ],
   "source": [
    "cavitylogic._fit_ramp()\n",
    "Modes = cavitylogic._ni.sweep_function(cavitylogic.RampUp_time[first_resonances],*cavitylogic.popt)"
   ]
  },
  {
   "cell_type": "code",
   "execution_count": 6,
   "metadata": {},
   "outputs": [
    {
     "name": "stderr",
     "output_type": "stream",
     "text": [
      "Traceback (most recent call last):\n",
      "  File \"C:\\Users\\ChildressLab\\Software\\Qudi\\logic\\jupyterkernel\\qzmqkernel.py\", line 795, in run_code\n",
      "    exec(code_obj, self.user_global_ns, self.user_ns)\n",
      "  File \"<ipython-input-6-ab2e1be1dbcf>\", line 1, in <module>\n",
      "    line_width_measurement(Modes,target_mode = cavitylogic.current_mode_number, repeat=2, freq=40)\n",
      "NameError: name 'Modes' is not defined\n"
     ]
    }
   ],
   "source": [
    "line_width_measurement(Modes,target_mode = cavitylogic.current_mode_number, repeat=2, freq=40)"
   ]
  },
  {
   "cell_type": "code",
   "execution_count": 30,
   "metadata": {},
   "outputs": [
    {
     "data": {
      "text/plain": [
       "0"
      ]
     },
     "execution_count": 30,
     "metadata": {},
     "output_type": "execute_result"
    }
   ],
   "source": [
    "mynicard.stop_ramp()\n",
    "mynicard.close_ramp()"
   ]
  },
  {
   "cell_type": "code",
   "execution_count": 21,
   "metadata": {},
   "outputs": [],
   "source": [
    "contrast = abs(cavitylogic.RampUp_signalR[cavitylogic.first_corrected_resonances].mean()-np.median(cavitylogic.RampUp_signalR))\n",
    "level = np.median(cavitylogic.RampUp_signalR) - 0.95 * contrast"
   ]
  },
  {
   "cell_type": "code",
   "execution_count": 22,
   "metadata": {},
   "outputs": [
    {
     "data": {
      "text/plain": [
       "0.36477611940298527"
      ]
     },
     "execution_count": 22,
     "metadata": {},
     "output_type": "execute_result"
    }
   ],
   "source": [
    "contrast"
   ]
  },
  {
   "cell_type": "code",
   "execution_count": 11,
   "metadata": {},
   "outputs": [
    {
     "data": {
      "text/plain": [
       "(array([], dtype=float64), array([], dtype=float64))"
      ]
     },
     "execution_count": 11,
     "metadata": {},
     "output_type": "execute_result"
    }
   ],
   "source": [
    "cavitylogic.RampUp_time, cavitylogic.RampUp_signalSG"
   ]
  },
  {
   "cell_type": "code",
   "execution_count": 18,
   "metadata": {
    "collapsed": true
   },
   "outputs": [],
   "source": [
    "import matplotlib.pyplot as plt"
   ]
  },
  {
   "cell_type": "code",
   "execution_count": 20,
   "metadata": {},
   "outputs": [
    {
     "data": {
      "text/plain": [
       "[<matplotlib.lines.Line2D object at 0x0000000007F6F0F0>]"
      ]
     },
     "execution_count": 20,
     "metadata": {},
     "output_type": "execute_result"
    },
    {
     "data": {
      "image/png": "[encoded data removed]"
     },
     "metadata": {
      "image/png": {
       "height": 361,
       "width": 543
      }
     },
     "output_type": "display_data"
    }
   ],
   "source": [
    "plt.plot(cavitylogic.RampUp_signalR[cavitylogic.first_corrected_resonances])"
   ]
  },
  {
   "cell_type": "code",
   "execution_count": 33,
   "metadata": {},
   "outputs": [
    {
     "data": {
      "text/plain": [
       "1095905.0"
      ]
     },
     "execution_count": 33,
     "metadata": {},
     "output_type": "execute_result"
    }
   ],
   "source": [
    "2191810/2"
   ]
  },
  {
   "cell_type": "code",
   "execution_count": 9,
   "metadata": {},
   "outputs": [
    {
     "data": {
      "text/plain": [
       "0"
      ]
     },
     "execution_count": 9,
     "metadata": {},
     "output_type": "execute_result"
    }
   ],
   "source": [
    "cavitylogic._get_ramp_up_signgals()"
   ]
  },
  {
   "cell_type": "code",
   "execution_count": 13,
   "metadata": {},
   "outputs": [
    {
     "data": {
      "text/plain": [
       "array([], dtype=float64)"
      ]
     },
     "execution_count": 13,
     "metadata": {},
     "output_type": "execute_result"
    }
   ],
   "source": [
    "cavitylogic.time_trim\n"
   ]
  },
  {
   "cell_type": "code",
   "execution_count": null,
   "metadata": {
    "collapsed": true
   },
   "outputs": [],
   "source": []
  }
 ],
 "metadata": {
  "kernelspec": {
   "display_name": "Qudi",
   "language": "python",
   "name": "qudi"
  },
  "language_info": {
   "codemirror_mode": {
    "name": "ipython",
    "version": "3.6.0"
   },
   "file_extension": ".py",
   "mimetype": "text/x-python",
   "name": "python",
   "nbconvert_exporter": "python",
   "pygments_lexer": "ipython3",
   "version": "3.6.0"
  },
  "latex_envs": {
   "LaTeX_envs_menu_present": true,
   "bibliofile": "biblio.bib",
   "cite_by": "apalike",
   "current_citInitial": 1,
   "eqLabelWithNumbers": true,
   "eqNumInitial": 1,
   "labels_anchors": false,
   "latex_user_defs": false,
   "report_style_numbering": false,
   "user_envs_cfg": false
  }
 },
 "nbformat": 4,
 "nbformat_minor": 1
}
