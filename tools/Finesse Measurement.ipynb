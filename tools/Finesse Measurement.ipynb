{
 "cells": [
  {
   "cell_type": "markdown",
   "metadata": {},
   "source": [
    "# Finesse measurements\n"
   ]
  },
  {
   "cell_type": "markdown",
   "metadata": {},
   "source": [
    "First step is to do a full sweep over 20 mu"
   ]
  },
  {
   "cell_type": "code",
   "execution_count": 1,
   "metadata": {
    "collapsed": false
   },
   "outputs": [
    {
     "name": "stdout",
     "output_type": "stream",
     "text": [
      "Connected to TEKTRONIX,DPO2014B,C010144,CF:91.1CT FV:v1.52 \n",
      "\n"
     ]
    },
    {
     "data": {
      "text/plain": [
       "0"
      ]
     },
     "execution_count": 1,
     "metadata": {},
     "output_type": "execute_result"
    }
   ],
   "source": [
    "import PyDAQmx as daq\n",
    "import numpy as np \n",
    "import matplotlib.pyplot as plt\n",
    "from time import sleep\n",
    "\n",
    "ni = mynicard\n",
    "\n",
    "manager.startModule('hardware','scope')"
   ]
  },
  {
   "cell_type": "code",
   "execution_count": 2,
   "metadata": {
    "collapsed": true
   },
   "outputs": [],
   "source": [
    "def sweep_function(SampNum, start, stop, freq):\n",
    "    f = np.zeros(SampNum)\n",
    "    period = 1/freq\n",
    "    t = np.linspace(0,period,SampNum)\n",
    "    slope = (stop-start) / (period/2)\n",
    "    for i in range(SampNum):\n",
    "        if t[i] < 1/2 * period:\n",
    "            f[i] = slope * t[i] + start\n",
    "        else:\n",
    "            f[i] = -slope * t[i] + 2 * stop\n",
    "    return f\n",
    "\n",
    "\n",
    "def setup_sweep(SampNum, start_voltage, stop_voltage, freq,RepOfSweep):\n",
    "\n",
    "    data = sweep_function(SampNum, start_voltage, stop_voltage, freq)\n",
    "\n",
    "    sweep_task = daq.TaskHandle()\n",
    "    daq.DAQmxCreateTask('sweep_task', daq.byref(sweep_task))\n",
    "\n",
    "    daq.DAQmxCreateAOVoltageChan(sweep_task,ni.cavity_channel, \"\", ni._cavity_voltage_range[0],\n",
    "                                 ni._cavity_voltage_range[1], daq.DAQmx_Val_Volts,None)\n",
    "    SampRate= freq * SampNum\n",
    "#Use internal clock for generate the ramp\n",
    "    daq.DAQmxCfgSampClkTiming(sweep_task,\"\",SampRate,daq.DAQmx_Val_Rising,daq.DAQmx_Val_FiniteSamps,RepOfSweep * SampNum)\n",
    "\n",
    "# Write data to DAQ-card\n",
    "    daq.DAQmxWriteAnalogF64(sweep_task, SampNum,0,100.0,daq.DAQmx_Val_GroupByChannel,data, None, None)\n",
    "\n",
    "    return sweep_task\n",
    "\n",
    "def setup_scope(freq, RepOfSweep):\n",
    "    \n",
    "    # set the time_scale such that it fits with the sweep\n",
    "    Aqusition_lenght = 1/ freq * RepOfSweep\n",
    "    division = Aqusition_lenght / 10\n",
    "    scope.set_time_scale(division)\n",
    "    \n",
    "    #setup the trigger\n",
    "    \n",
    "    \n",
    "\n",
    "def caviy_sweep(SampNum, start_voltage, stop_voltage, freq, RepOfSweep):\n",
    "    '''sweep # time back and forth'''\n",
    "    \n",
    "    sweep_task = setup_sweep(SampNum, start_voltage, stop_voltage, freq, RepOfSweep)\n",
    "    setup_scope(freq,RepOfSweep+2)\n",
    " \n",
    "    scope.run_single()\n",
    "    sleep(0.6)\n",
    "    daq.DAQmxStartTask(sweep_task)\n",
    "    \n",
    "\n",
    "    return sweep_task\n"
   ]
  },
  {
   "cell_type": "code",
   "execution_count": 3,
   "metadata": {
    "collapsed": false
   },
   "outputs": [],
   "source": [
    "sweep_task = caviy_sweep(100000, 0,-0.02, 2, 2)"
   ]
  },
  {
   "cell_type": "code",
   "execution_count": 4,
   "metadata": {
    "collapsed": false
   },
   "outputs": [],
   "source": [
    "times, volts = scope.aquire_data()"
   ]
  },
  {
   "cell_type": "code",
   "execution_count": 5,
   "metadata": {
    "collapsed": false
   },
   "outputs": [
    {
     "data": {
      "text/plain": [
       "0"
      ]
     },
     "execution_count": 5,
     "metadata": {},
     "output_type": "execute_result"
    }
   ],
   "source": [
    "daq.DAQmxStopTask(sweep_task)\n",
    "daq.DAQmxClearTask(sweep_task)"
   ]
  },
  {
   "cell_type": "code",
   "execution_count": 11,
   "metadata": {
    "collapsed": false
   },
   "outputs": [],
   "source": [
    "#volts = volts.reshape(3, int(len(volts)/3))\n",
    "times = times.reshape(3, int(len(times)/3))"
   ]
  },
  {
   "cell_type": "code",
   "execution_count": 8,
   "metadata": {
    "collapsed": false
   },
   "outputs": [
    {
     "data": {
      "text/plain": [
       "array([-1.12, -1.12, -1.12, ...,  2.3 ,  2.28,  2.3 ])"
      ]
     },
     "execution_count": 8,
     "metadata": {},
     "output_type": "execute_result"
    }
   ],
   "source": [
    "volts[0,:]"
   ]
  },
  {
   "cell_type": "code",
   "execution_count": null,
   "metadata": {
    "collapsed": false
   },
   "outputs": [],
   "source": [
    "\n",
    "plt.plot(times,volts)\n",
    "plt.show()"
   ]
  },
  {
   "cell_type": "code",
   "execution_count": null,
   "metadata": {
    "collapsed": false
   },
   "outputs": [],
   "source": []
  },
  {
   "cell_type": "code",
   "execution_count": null,
   "metadata": {
    "collapsed": false
   },
   "outputs": [],
   "source": []
  },
  {
   "cell_type": "code",
   "execution_count": null,
   "metadata": {
    "collapsed": true
   },
   "outputs": [],
   "source": []
  }
 ],
 "metadata": {
  "kernelspec": {
   "display_name": "Qudi",
   "language": "python",
   "name": "qudi"
  },
  "language_info": {
   "codemirror_mode": {
    "name": "ipython",
    "version": "3.6.0"
   },
   "file_extension": ".py",
   "mimetype": "text/x-python",
   "name": "python",
   "nbconvert_exporter": "python",
   "pygments_lexer": "ipython3",
   "version": "3.6.0"
  }
 },
 "nbformat": 4,
 "nbformat_minor": 2
}
