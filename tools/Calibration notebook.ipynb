{
 "cells": [
  {
   "cell_type": "markdown",
   "metadata": {},
   "source": [
    "# Calibration\n",
    "\n",
    "## Start a simple ramp signal\n",
    "\n"
   ]
  },
  {
   "cell_type": "code",
   "execution_count": 17,
   "metadata": {
    "collapsed": false
   },
   "outputs": [
    {
     "name": "stderr",
     "output_type": "stream",
     "text": [
      "Traceback (most recent call last):\n",
      "  File \"C:\\Users\\ChildressLab\\Software\\Qudi\\logic\\jupyterkernel\\qzmqkernel.py\", line 795, in run_code\n",
      "    exec(code_obj, self.user_global_ns, self.user_ns)\n",
      "  File \"<ipython-input-17-c538dabedcd1>\", line 5, in <module>\n",
      "    mynicard.set_up_ramp_output(Amplitude,Offset,Freq)\n",
      "  File \"C:\\Users\\ChildressLab\\Software\\Qudi\\hardware\\ni_card_USB6229.py\", line 1510, in set_up_ramp_output\n",
      "    daq.DAQmxCreateTask('Ramp', daq.byref(self._ramp_task))\n",
      "  File \"<string>\", line 2, in function\n",
      "  File \"C:\\Users\\ChildressLab\\Anaconda3\\envs\\qudi\\lib\\site-packages\\PyDAQmx\\DAQmxFunctions.py\", line 29, in mafunction\n",
      "    raise DAQError(error,errBuff.value.decode(\"utf-8\"), f.__name__)\n",
      "PyDAQmx.DAQmxFunctions.DAQError: Task name specified conflicts with an existing task name.\n",
      "Task Name: Ramp\n",
      "\n",
      "Status Code: -200089\n",
      " in function DAQmxCreateTask\n"
     ]
    }
   ],
   "source": [
    "# Start ramp signal\n",
    "Amplitude = 0.01 # V\n",
    "Offset = -0.309 # V\n",
    "Freq = 16\n",
    "mynicard.set_up_ramp_output(Amplitude,Offset,Freq)\n",
    "mynicard.start_ramp()"
   ]
  },
  {
   "cell_type": "code",
   "execution_count": 18,
   "metadata": {
    "collapsed": false
   },
   "outputs": [
    {
     "data": {
      "text/plain": [
       "-1"
      ]
     },
     "execution_count": 18,
     "metadata": {},
     "output_type": "execute_result"
    }
   ],
   "source": [
    "mynicard.stop_ramp()"
   ]
  },
  {
   "cell_type": "code",
   "execution_count": 19,
   "metadata": {
    "collapsed": false
   },
   "outputs": [
    {
     "data": {
      "text/plain": [
       "-1"
      ]
     },
     "execution_count": 19,
     "metadata": {},
     "output_type": "execute_result"
    }
   ],
   "source": [
    "mynicard.close_ramp()"
   ]
  },
  {
   "cell_type": "code",
   "execution_count": null,
   "metadata": {
    "collapsed": true
   },
   "outputs": [],
   "source": []
  }
 ],
 "metadata": {
  "kernelspec": {
   "display_name": "Qudi",
   "language": "python",
   "name": "qudi"
  },
  "language_info": {
   "codemirror_mode": {
    "name": "ipython",
    "version": "3.6.0"
   },
   "file_extension": ".py",
   "mimetype": "text/x-python",
   "name": "python",
   "nbconvert_exporter": "python",
   "pygments_lexer": "ipython3",
   "version": "3.6.0"
  }
 },
 "nbformat": 4,
 "nbformat_minor": 2
}
