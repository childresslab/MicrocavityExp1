{
 "cells": [
  {
   "cell_type": "code",
   "execution_count": null,
   "metadata": {
    "collapsed": false
   },
   "outputs": [],
   "source": [
    "import numpy as np \n",
    "import matplotlib.pyplot as plt\n",
    "import glob\n",
    "plt.ion()\n",
    "# Loads nicard and scope\n",
    "manager.startModule('logic','cavitylogic')\n",
    "filenames = glob.glob('./*data.dat')\n",
    "\n",
    "outlier_cutoff = 1.5"
   ]
  },
  {
   "cell_type": "code",
   "execution_count": null,
   "metadata": {
    "collapsed": false
   },
   "outputs": [],
   "source": [
    "def get_first_sweep():\n",
    "    cavitylogic.start_full_sweep()\n",
    "    cavitylogic._get_scope_data()\n",
    "    cavitylogic._save_raw_data()\n",
    "    \n",
    "    cavitylogic._get_ramp_up_signgals()\n",
    "    cavitylogic.first_sweep = cavitylogic.RampUp_signalR\n",
    "    \n",
    "    cavitylogic._polyfit_SG(order = 3,plot=False)\n",
    "    resonances = cavitylogic._peak_search(cavitylogic.RampUp_signalR)\n",
    "    cavitylogic.first_corrected_resonances = cavitylogic._find_missing_resonances(resonances)\n",
    "    \n",
    "    return first_corrected_resonances\n",
    "    \n",
    "def get_nth_sweep( sweep_number = cavitylogic.current_sweep_number)\n",
    "    sweep_number = n\n",
    "    \n",
    "    cavitylogic.start_full_sweep()\n",
    "    cavitylogic._get_scope_data()\n",
    "    cavitylogic._save_raw_data()\n",
    "    \n",
    "    cavitylogic._polyfit_SG(order = 3,plot=False)\n",
    "    resonances = cavitylogic._peak_search(cavitylogic.RampUp_signalR)\n",
    "    corrected_resonances = cavitylogic._find_missing_resonances(resonances)\n",
    "    \n",
    "    return corrected_resonances\n",
    "\n",
    "def find_phase_difference(signalA, signalB, low, high, show=False):\n",
    "    # regularize datasets by subtracting mean and dividing by s.d.\n",
    "    signalA -= signalA.mean(); signalA /= signalA.std()\n",
    "    signalB -= signalB.mean(); signalB /= signalB.std()\n",
    "    \n",
    "    # choose cut off for arrays\n",
    "    low, high = 200000,300000\n",
    "    signalA = signalA[low:high]\n",
    "    signalB = signalB[low:high]\n",
    "    \n",
    "    # Calculate cross correlation function https://en.wikipedia.org/wiki/Cross-correlation\n",
    "    xcorr = correlate(signalA, signalB)\n",
    "    nsamples = signalA.size\n",
    "    \n",
    "    dt = numpy.arange(1-nsamples, nsamples)\n",
    "    \n",
    "    #Phase delay\n",
    "    t_delay = dt[xcorr.argmax()]\n",
    "    \n",
    "    if show is true:\n",
    "        plt.plot(dt,xcorr)\n",
    "        plt.show()\n",
    "        \n",
    "    return t_delay\n",
    "    \n",
    "def match_n_and_first_sweep():\n",
    "    \n",
    "    low = resonance[n-10]\n",
    "    high = resoance[n+10]\n",
    "    cavitylogic.t_delay.append = find_phase_difference(cavitylogic.first_sweep, cavitylogic.RampUp_SignalR, low, high, show=True)\n",
    "    \n",
    "    return cavitylogic.t_delay\n",
    "    \n",
    "def setup_scope_for_linewidth(trigger_level, acquisition_time, position, scale):\n",
    "    # Adjust ramp channel:\n",
    "    cavitylogic._scope.set_vertical_scale(channel=cavitylogic.ramp_channel, scale=scale )\n",
    "    cavitylogic._scope.set_vertical_position(channel, position=position)\n",
    "    cavitylogic._scope.set_acquisition_time(acquisition_time)\n",
    "    cavitylogic._scope.set_trigger(channel=cavitylogic.ramp_channel, level=trigger_level)\n",
    "    \n",
    "    #FIXME: Adjust position and velocity \n",
    "\n",
    "    \n",
    "def line_width_measurement(Modes,target_mode, repeat, freq=40):\n",
    "    # Ramp parameters\n",
    "    amplitude = abs(Modes[target_mode-1]-Modes[target_mode+1])/2.0\n",
    "    offset = Modes[target_mode]\n",
    "    \n",
    "    # Setup scope for linewidth measurements with trigger on ramp signal\n",
    "    setup_scope_for_linewidth(trigger_level=Modes[target_mode],acquisition_time=40e-3, position=offset, scale=amplitude)\n",
    "    \n",
    "    # setup_ramp\n",
    "    cavitylogic._ni.set_up_ramp_output(amplitude,offset,freq)\n",
    "    # start ramp\n",
    "    cavitylogic._ni.start_ramp()\n",
    "    \n",
    "    for i in range(repeat):\n",
    "        cavitylogic.get_data()\n",
    "        cavitylogic.save_data()\n",
    "        \n",
    "def get_target_mode():\n",
    "    \n",
    "    # Find phase difference\n",
    "    delay = match_n_and_first_sweep()\n",
    "    \n",
    "    # Find closets mode\n",
    "    new_index = cavitylogic.first_corrected_resonances[cavity.current_mode_number]+ delay\n",
    "    closest_mode = np.argmin(cavitylogic.resonances-new_index)\n",
    "    \n",
    "    target_mode = resonances[closest_mode]\n",
    "    \n",
    "    return target_mode\n",
    "#\n",
    "#Modes = cavitylogic._ni.sweep_function(cavitylogic.RampUp_time[corrected_resonances],*cavitylogic.popt)"
   ]
  },
  {
   "cell_type": "code",
   "execution_count": null,
   "metadata": {
    "collapsed": true
   },
   "outputs": [],
   "source": [
    "cavitylogic.current_mode_number = 1"
   ]
  },
  {
   "cell_type": "code",
   "execution_count": null,
   "metadata": {
    "collapsed": true
   },
   "outputs": [],
   "source": [
    "first_resonances = get_first_sweep():"
   ]
  },
  {
   "cell_type": "code",
   "execution_count": null,
   "metadata": {
    "collapsed": true
   },
   "outputs": [],
   "source": [
    "cavitylogic._fit_ramp()\n",
    "Modes = cavitylogic._ni.sweep_function(cavitylogic.RampUp_time[corrected_resonances],*cavitylogic.popt)"
   ]
  },
  {
   "cell_type": "code",
   "execution_count": null,
   "metadata": {
    "collapsed": true
   },
   "outputs": [],
   "source": [
    "line_width_measurement(Modes,target_mode, repeat, freq=40):"
   ]
  }
 ],
 "metadata": {
  "kernelspec": {
   "display_name": "Qudi",
   "language": "python",
   "name": "qudi"
  },
  "language_info": {
   "codemirror_mode": {
    "name": "ipython",
    "version": "3.6.0"
   },
   "file_extension": ".py",
   "mimetype": "text/x-python",
   "name": "python",
   "nbconvert_exporter": "python",
   "pygments_lexer": "ipython3",
   "version": "3.6.0"
  },
  "latex_envs": {
   "LaTeX_envs_menu_present": true,
   "bibliofile": "biblio.bib",
   "cite_by": "apalike",
   "current_citInitial": 1,
   "eqLabelWithNumbers": true,
   "eqNumInitial": 1,
   "labels_anchors": false,
   "latex_user_defs": false,
   "report_style_numbering": false,
   "user_envs_cfg": false
  }
 },
 "nbformat": 4,
 "nbformat_minor": 1
}
